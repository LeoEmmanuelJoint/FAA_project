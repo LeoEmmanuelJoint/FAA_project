{
 "cells": [
  {
   "cell_type": "code",
   "execution_count": 1,
   "outputs": [],
   "source": [
    "import os\n",
    "import cv2\n",
    "import numpy as np\n",
    "from sklearn.ensemble import RandomForestClassifier\n",
    "from sklearn.metrics import accuracy_score\n",
    "from imblearn.over_sampling import SMOTE\n",
    "from sklearn.model_selection import KFold"
   ],
   "metadata": {
    "collapsed": false,
    "pycharm": {
     "name": "#%%\n"
    }
   }
  },
  {
   "cell_type": "code",
   "execution_count": 2,
   "outputs": [],
   "source": [
    "# Chemins vers les dossiers de données d'entraînement et de test\n",
    "train_data_directory = 'extract/data'\n",
    "test_data_directory = 'D:/projet python/FAA_project/new styve/test'\n",
    "emotions = [\"anger\", \"disgust\", \"fear\", \"happiness\", \"neutral\", \"sadness\", \"surprise\"]"
   ],
   "metadata": {
    "collapsed": false,
    "pycharm": {
     "name": "#%%\n"
    }
   }
  },
  {
   "cell_type": "code",
   "execution_count": 3,
   "outputs": [],
   "source": [
    "\n",
    "# Prétraitement des données\n",
    "def preprocess_data(data_directory):\n",
    "    images = []\n",
    "    labels = []\n",
    "\n",
    "    for emotion in emotions:\n",
    "        emotion_path = os.path.join(data_directory, emotion)\n",
    "        for image_name in os.listdir(emotion_path):\n",
    "            image_path = os.path.join(emotion_path, image_name)\n",
    "            image = cv2.imread(image_path, 0)  # Charger l'image en niveaux de gris\n",
    "            images.append(image)\n",
    "            labels.append(emotions.index(emotion))  # Étiqueter l'image avec l'indice de l'émotion\n",
    "\n",
    "    return np.array(images), np.array(labels)\n",
    "\n",
    "# Chargement des données d'entraînement\n",
    "train_images, train_labels = preprocess_data(train_data_directory)\n",
    "\n",
    "# Chargement des données de test\n",
    "test_images, test_labels = preprocess_data(test_data_directory)"
   ],
   "metadata": {
    "collapsed": false,
    "pycharm": {
     "name": "#%%\n"
    }
   }
  },
  {
   "cell_type": "code",
   "execution_count": 4,
   "outputs": [],
   "source": [
    "\n",
    "# Extraction des caractéristiques\n",
    "def extract_features(images):\n",
    "    features = []\n",
    "\n",
    "    for image in images:\n",
    "        # À titre d'exemple, nous allons simplement à plat les images en vecteurs\n",
    "        feature = image.flatten()\n",
    "        features.append(feature)\n",
    "\n",
    "    return np.array(features)\n",
    "\n",
    "# Extraction des caractéristiques pour les données d'entraînement\n",
    "train_features = extract_features(train_images)\n",
    "\n",
    "# Extraction des caractéristiques pour les données de test\n",
    "test_features = extract_features(test_images)"
   ],
   "metadata": {
    "collapsed": false,
    "pycharm": {
     "name": "#%%\n"
    }
   }
  },
  {
   "cell_type": "code",
   "execution_count": 5,
   "outputs": [],
   "source": [
    "\n",
    "# Équilibrage des données d'entraînement avec SMOTE\n",
    "smote = SMOTE()\n",
    "train_features, train_labels = smote.fit_resample(train_features, train_labels)"
   ],
   "metadata": {
    "collapsed": false,
    "pycharm": {
     "name": "#%%\n"
    }
   }
  },
  {
   "cell_type": "code",
   "execution_count": 6,
   "outputs": [],
   "source": [
    "\n",
    "# Construction du modèle\n",
    "model = RandomForestClassifier()"
   ],
   "metadata": {
    "collapsed": false,
    "pycharm": {
     "name": "#%%\n"
    }
   }
  },
  {
   "cell_type": "code",
   "execution_count": 6,
   "outputs": [],
   "source": [],
   "metadata": {
    "collapsed": false,
    "pycharm": {
     "name": "#%%\n"
    }
   }
  },
  {
   "cell_type": "code",
   "execution_count": 7,
   "outputs": [],
   "source": [
    "\n",
    "# Entraînement du modèle avec K-fold\n",
    "kfold = KFold(n_splits=5, shuffle=True, random_state=42)\n",
    "train_accuracies = []\n",
    "test_accuracies = []\n",
    "\n",
    "for train_index, test_index in kfold.split(train_features):\n",
    "    X_train, X_test = train_features[train_index], train_features[test_index]\n",
    "    y_train, y_test = train_labels[train_index], train_labels[test_index]\n",
    "\n",
    "    model.fit(X_train, y_train)\n",
    "\n",
    "    train_predictions = model.predict(X_train)\n",
    "    train_accuracy = accuracy_score(y_train, train_predictions)\n",
    "    train_accuracies.append(train_accuracy)\n",
    "\n",
    "    test_predictions = model.predict(X_test)\n",
    "    test_accuracy = accuracy_score(y_test, test_predictions)\n",
    "    test_accuracies.append(test_accuracy)"
   ],
   "metadata": {
    "collapsed": false,
    "pycharm": {
     "name": "#%%\n"
    }
   }
  },
  {
   "cell_type": "code",
   "execution_count": 13,
   "outputs": [],
   "source": [],
   "metadata": {
    "collapsed": false,
    "pycharm": {
     "name": "#%%\n"
    }
   }
  },
  {
   "cell_type": "code",
   "execution_count": 8,
   "outputs": [
    {
     "name": "stdout",
     "output_type": "stream",
     "text": [
      "Précision sur les données de test : 0.3388461172892311\n",
      "Précision moyenne sur les données d'entraînement : 0.9996835134871945\n",
      "Précision moyenne sur les données de test : 0.6319407926769889\n"
     ]
    }
   ],
   "source": [
    "\n",
    "# Évaluation du modèle sur les données de test\n",
    "predictions = model.predict(test_features)\n",
    "accuracy = accuracy_score(test_labels, predictions)\n",
    "print(\"Précision sur les données de test :\", accuracy)\n",
    "\n",
    "print(\"Précision moyenne sur les données d'entraînement :\", np.mean(train_accuracies))\n",
    "print(\"Précision moyenne sur les données de test :\", np.mean(test_accuracies))"
   ],
   "metadata": {
    "collapsed": false,
    "pycharm": {
     "name": "#%%\n"
    }
   }
  },
  {
   "cell_type": "code",
   "execution_count": 9,
   "outputs": [
    {
     "name": "stdout",
     "output_type": "stream",
     "text": [
      "Modèle sauvegardé avec succès.\n"
     ]
    }
   ],
   "source": [
    "import joblib\n",
    "\n",
    "# Sauvegarde du modèle entraîné\n",
    "joblib.dump(model, 'trained_model_forest.pkl')\n",
    "print(\"Modèle sauvegardé avec succès.\")"
   ],
   "metadata": {
    "collapsed": false,
    "pycharm": {
     "name": "#%%\n"
    }
   }
  },
  {
   "cell_type": "code",
   "execution_count": null,
   "outputs": [],
   "source": [],
   "metadata": {
    "collapsed": false,
    "pycharm": {
     "name": "#%%\n"
    }
   }
  }
 ],
 "metadata": {
  "kernelspec": {
   "display_name": "Python 3",
   "language": "python",
   "name": "python3"
  },
  "language_info": {
   "codemirror_mode": {
    "name": "ipython",
    "version": 2
   },
   "file_extension": ".py",
   "mimetype": "text/x-python",
   "name": "python",
   "nbconvert_exporter": "python",
   "pygments_lexer": "ipython2",
   "version": "2.7.6"
  }
 },
 "nbformat": 4,
 "nbformat_minor": 0
}