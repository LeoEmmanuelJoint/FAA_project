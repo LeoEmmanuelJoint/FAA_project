{
 "cells": [
  {
   "cell_type": "code",
   "execution_count": 1,
   "metadata": {
    "collapsed": true
   },
   "outputs": [],
   "source": [
    "import os\n",
    "import cv2\n",
    "\n",
    "def create_training_data(folder_path, classes, img_size):\n",
    "    X_train = []\n",
    "    y_train = []\n",
    "    for category in classes:\n",
    "        path = os.path.join(folder_path, category)\n",
    "        class_num = classes.index(category)\n",
    "        for img in os.listdir(path):\n",
    "            try:\n",
    "                img_array = cv2.imread(os.path.join(path, img))\n",
    "                new_array = cv2.resize(img_array, (img_size, img_size))\n",
    "                X_train.append(new_array)\n",
    "                y_train.append(class_num)\n",
    "            except Exception as e:\n",
    "                pass\n",
    "    print(\"Converted image shape: \" + str(X_train[0].shape))\n",
    "    return(X_train, y_train)"
   ]
  },
  {
   "cell_type": "code",
   "execution_count": 2,
   "outputs": [
    {
     "name": "stdout",
     "output_type": "stream",
     "text": [
      "Converted image shape: (48, 48, 3)\n"
     ]
    }
   ],
   "source": [
    "import numpy as np\n",
    "\n",
    "train_data_path = \"D:/UQAC ETE 2023/8INF867_Fondamentaux de l'apprentissage automatique/Projet/svm/data\"\n",
    "classes = [\"anger\", \"disgust\", \"fear\", \"happiness\", \"neutral\", \"sadness\", \"surprise\"]\n",
    "\n",
    "\n",
    "X_train, y_train = create_training_data(train_data_path, classes, 48)\n",
    "\n",
    "X_train = np.array(X_train)\n",
    "y_train = np.array(y_train)"
   ],
   "metadata": {
    "collapsed": false
   }
  },
  {
   "cell_type": "code",
   "execution_count": null,
   "outputs": [],
   "source": [
    "X_test = None\n",
    "y_test = None\n",
    "epochs = 2\n",
    "batch_size = 256\n",
    "\n",
    "number_of_labels = len(classes)\n",
    "# Aplatir (vectoriser) les images\n",
    "n_samples = len(X_train)\n",
    "X_train = X_train.reshape((n_samples, -1))\n",
    "input_shape = X_train.shape\n",
    "print(input_shape)"
   ],
   "metadata": {
    "collapsed": false
   }
  },
  {
   "cell_type": "markdown",
   "source": [
    "REDUCTION DE DIMENSIONS"
   ],
   "metadata": {
    "collapsed": false
   }
  },
  {
   "cell_type": "code",
   "execution_count": 25,
   "outputs": [],
   "source": [
    "from sklearn.decomposition import PCA\n",
    "from sklearn.calibration import CalibratedClassifierCV\n",
    "\n",
    "pca = PCA(n_components = 10)\n",
    "X_train = pca.fit_transform(X_train)\n",
    "#X_test = pca.transform(X_test)\n",
    "\n",
    "#explained_variance = pca.explained_variance_ratio_\n"
   ],
   "metadata": {
    "collapsed": false
   }
  },
  {
   "cell_type": "markdown",
   "source": [
    "CREATION DU MODELE SVM LINEAIRE"
   ],
   "metadata": {
    "collapsed": false
   }
  },
  {
   "cell_type": "code",
   "execution_count": null,
   "outputs": [],
   "source": [
    "from sklearn import svm\n",
    "\n",
    "model = svm.LinearSVC(max_iter=60000)\n",
    "# Création d'un classificateur calibré pour pouvoir tracer la courbe ROC_AUC\n",
    "calibrated_svc = CalibratedClassifierCV(model, method='sigmoid')"
   ],
   "metadata": {
    "collapsed": false
   }
  },
  {
   "cell_type": "markdown",
   "source": [
    "ENTRAINEMENT"
   ],
   "metadata": {
    "collapsed": false
   }
  },
  {
   "cell_type": "code",
   "execution_count": null,
   "outputs": [
    {
     "name": "stderr",
     "output_type": "stream",
     "text": [
      "C:\\Users\\harit\\AppData\\Local\\Packages\\PythonSoftwareFoundation.Python.3.10_qbz5n2kfra8p0\\LocalCache\\local-packages\\Python310\\site-packages\\sklearn\\svm\\_base.py:1244: ConvergenceWarning: Liblinear failed to converge, increase the number of iterations.\n",
      "  warnings.warn(\n",
      "C:\\Users\\harit\\AppData\\Local\\Packages\\PythonSoftwareFoundation.Python.3.10_qbz5n2kfra8p0\\LocalCache\\local-packages\\Python310\\site-packages\\sklearn\\svm\\_base.py:1244: ConvergenceWarning: Liblinear failed to converge, increase the number of iterations.\n",
      "  warnings.warn(\n",
      "C:\\Users\\harit\\AppData\\Local\\Packages\\PythonSoftwareFoundation.Python.3.10_qbz5n2kfra8p0\\LocalCache\\local-packages\\Python310\\site-packages\\sklearn\\svm\\_base.py:1244: ConvergenceWarning: Liblinear failed to converge, increase the number of iterations.\n",
      "  warnings.warn(\n"
     ]
    }
   ],
   "source": [
    "from time import time\n",
    "import datetime\n",
    "\n",
    "start_time = time()\n",
    "\n",
    "calibrated_svc.fit(X_train, y_train)\n",
    "\n",
    "end_time = time()\n",
    "duration = end_time-start_time\n",
    "\n",
    "print(\"Training duration: \", str(datetime.timedelta(seconds=duration)))"
   ],
   "metadata": {
    "collapsed": false,
    "pycharm": {
     "is_executing": true
    }
   }
  },
  {
   "cell_type": "code",
   "execution_count": null,
   "outputs": [],
   "source": [
    "support_vectors = model.support_vectors_\n",
    "dec = model.decision_function([[1]])"
   ],
   "metadata": {
    "collapsed": false
   }
  },
  {
   "cell_type": "code",
   "execution_count": null,
   "outputs": [],
   "source": [
    "# from sklearn.metrics import classification_report\n",
    "#\n",
    "# print(\"TEST RESULTS\")\n",
    "# y_test_model = model.predict(X_test)\n",
    "# print(classification_report(y_test, y_test_model))\n",
    "\n",
    "y_pred = model.predict(X_test)\n",
    "# Obtenir les probabilités de prédiction pour les données de test\n",
    "y_pred_proba = calibrated_svc.predict_proba(X_test)"
   ],
   "metadata": {
    "collapsed": false
   }
  },
  {
   "cell_type": "code",
   "execution_count": null,
   "outputs": [],
   "source": [
    "# from joblib import dump\n",
    "#\n",
    "# dump(model, 'model_svm.joblib')\n",
    "\n",
    "# later, the model can be retrieved with \"clf = load('filename.joblib')\""
   ],
   "metadata": {
    "collapsed": false
   }
  },
  {
   "cell_type": "code",
   "execution_count": null,
   "outputs": [],
   "source": [
    "import metrics\n",
    "\n",
    "metrics.compute_metrics(y_test, y_pred)\n",
    "metrics.compute_roc_auc(y_test, y_pred_proba)\n"
   ],
   "metadata": {
    "collapsed": false
   }
  }
 ],
 "metadata": {
  "kernelspec": {
   "display_name": "Python 3",
   "language": "python",
   "name": "python3"
  },
  "language_info": {
   "codemirror_mode": {
    "name": "ipython",
    "version": 2
   },
   "file_extension": ".py",
   "mimetype": "text/x-python",
   "name": "python",
   "nbconvert_exporter": "python",
   "pygments_lexer": "ipython2",
   "version": "2.7.6"
  }
 },
 "nbformat": 4,
 "nbformat_minor": 0
}
