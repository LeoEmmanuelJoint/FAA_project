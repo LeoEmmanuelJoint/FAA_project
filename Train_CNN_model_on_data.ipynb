{
 "cells": [
  {
   "cell_type": "markdown",
   "id": "6d4f45b5",
   "metadata": {
    "id": "kDkcg3HmN95n",
    "papermill": {
     "duration": 0.005678,
     "end_time": "2023-06-18T07:15:16.868013",
     "exception": false,
     "start_time": "2023-06-18T07:15:16.862335",
     "status": "completed"
    },
    "tags": []
   },
   "source": [
    "Get the dataset images"
   ]
  },
  {
   "cell_type": "code",
   "execution_count": 1,
   "id": "ae3b85f8",
   "metadata": {
    "execution": {
     "iopub.execute_input": "2023-06-18T07:15:16.879957Z",
     "iopub.status.busy": "2023-06-18T07:15:16.879494Z",
     "iopub.status.idle": "2023-06-18T07:15:20.913229Z",
     "shell.execute_reply": "2023-06-18T07:15:20.911957Z"
    },
    "id": "Eby_WkIAGJxO",
    "outputId": "324a416e-de21-4dd9-edc6-608ccf7d0ae2",
    "papermill": {
     "duration": 4.042578,
     "end_time": "2023-06-18T07:15:20.915776",
     "exception": false,
     "start_time": "2023-06-18T07:15:16.873198",
     "status": "completed"
    },
    "tags": []
   },
   "outputs": [
    {
     "name": "stdout",
     "output_type": "stream",
     "text": [
      "Cloning into 'FAA_project'...\r\n",
      "remote: Enumerating objects: 24403, done.\u001b[K\r\n",
      "remote: Counting objects: 100% (7/7), done.\u001b[K\r\n",
      "remote: Compressing objects: 100% (3/3), done.\u001b[K\r\n",
      "remote: Total 24403 (delta 2), reused 7 (delta 2), pack-reused 24396\u001b[K\r\n",
      "Receiving objects: 100% (24403/24403), 41.03 MiB | 29.53 MiB/s, done.\r\n",
      "Resolving deltas: 100% (3/3), done.\r\n"
     ]
    }
   ],
   "source": [
    "!git clone https://github.com/LeoEmmanuelJoint/FAA_project.git"
   ]
  },
  {
   "cell_type": "markdown",
   "id": "65fdf684",
   "metadata": {
    "id": "P59cH0KW_RgU",
    "papermill": {
     "duration": 0.006829,
     "end_time": "2023-06-18T07:15:20.930224",
     "exception": false,
     "start_time": "2023-06-18T07:15:20.923395",
     "status": "completed"
    },
    "tags": []
   },
   "source": [
    "Setting the train and test dataset"
   ]
  },
  {
   "cell_type": "markdown",
   "id": "b471c410",
   "metadata": {
    "id": "44Y5TeAAeu0_",
    "papermill": {
     "duration": 0.006844,
     "end_time": "2023-06-18T07:15:20.944130",
     "exception": false,
     "start_time": "2023-06-18T07:15:20.937286",
     "status": "completed"
    },
    "tags": []
   },
   "source": [
    "Creating the dataset"
   ]
  },
  {
   "cell_type": "code",
   "execution_count": 2,
   "id": "57c76e33",
   "metadata": {
    "execution": {
     "iopub.execute_input": "2023-06-18T07:15:20.960864Z",
     "iopub.status.busy": "2023-06-18T07:15:20.959324Z",
     "iopub.status.idle": "2023-06-18T07:15:21.111454Z",
     "shell.execute_reply": "2023-06-18T07:15:21.110491Z"
    },
    "id": "eLpNaHiffL1B",
    "papermill": {
     "duration": 0.162806,
     "end_time": "2023-06-18T07:15:21.114004",
     "exception": false,
     "start_time": "2023-06-18T07:15:20.951198",
     "status": "completed"
    },
    "tags": []
   },
   "outputs": [],
   "source": [
    "import os\n",
    "import cv2\n",
    "\n",
    "def create_training_data(folder_path, classes, img_size):\n",
    "    X_train = []\n",
    "    y_train = []\n",
    "    for category in classes:\n",
    "        path = os.path.join(folder_path, category)\n",
    "        class_num = classes.index(category)\n",
    "        for img in os.listdir(path):\n",
    "            try:\n",
    "                img_array = cv2.imread(os.path.join(path, img))\n",
    "                # new_array = cv2.resize(img_array, (img_size, img_size))\n",
    "                X_train.append(img_array)\n",
    "                y_train.append(class_num)\n",
    "            except Exception as e:\n",
    "                pass\n",
    "    print(\"Converted image shape: %d\" + str(X_train[0].shape))\n",
    "    return(X_train, y_train)"
   ]
  },
  {
   "cell_type": "code",
   "execution_count": 3,
   "id": "3762c837",
   "metadata": {
    "execution": {
     "iopub.execute_input": "2023-06-18T07:15:21.131127Z",
     "iopub.status.busy": "2023-06-18T07:15:21.130226Z",
     "iopub.status.idle": "2023-06-18T07:15:23.470057Z",
     "shell.execute_reply": "2023-06-18T07:15:23.467984Z"
    },
    "id": "9hB27PaenP5l",
    "outputId": "4c7690b3-02b1-4259-9196-a465f0f65c3c",
    "papermill": {
     "duration": 2.350524,
     "end_time": "2023-06-18T07:15:23.472242",
     "exception": false,
     "start_time": "2023-06-18T07:15:21.121718",
     "status": "completed"
    },
    "tags": []
   },
   "outputs": [
    {
     "name": "stdout",
     "output_type": "stream",
     "text": [
      "Converted image shape: %d(48, 48, 3)\n"
     ]
    }
   ],
   "source": [
    "import numpy as np\n",
    "\n",
    "train_data_path = \"/kaggle/working/FAA_project/data\"\n",
    "classes = [\"anger\", \"disgust\", \"fear\", \"happiness\", \"neutral\", \"sadness\", \"surprise\"]\n",
    "\n",
    "\n",
    "X_train, y_train = create_training_data(train_data_path, classes, 48)\n",
    "\n",
    "X_train = np.array(X_train)\n",
    "y_train = np.array(y_train)"
   ]
  },
  {
   "cell_type": "code",
   "execution_count": 4,
   "id": "10dfa9e2",
   "metadata": {
    "execution": {
     "iopub.execute_input": "2023-06-18T07:15:23.488302Z",
     "iopub.status.busy": "2023-06-18T07:15:23.488005Z",
     "iopub.status.idle": "2023-06-18T07:15:23.493728Z",
     "shell.execute_reply": "2023-06-18T07:15:23.492611Z"
    },
    "id": "gDWiG-mb8Ysl",
    "outputId": "e7f36eb2-f06c-41e4-c1b9-4826e8d81d21",
    "papermill": {
     "duration": 0.018098,
     "end_time": "2023-06-18T07:15:23.497594",
     "exception": false,
     "start_time": "2023-06-18T07:15:23.479496",
     "status": "completed"
    },
    "tags": []
   },
   "outputs": [
    {
     "name": "stdout",
     "output_type": "stream",
     "text": [
      "(25409, 48, 48, 3)\n"
     ]
    }
   ],
   "source": [
    "X_test = None\n",
    "y_test = None\n",
    "epochs = 30\n",
    "batch_size = 8\n",
    "\n",
    "number_of_labels = len(classes)\n",
    "input_shape = X_train.shape\n",
    "print(input_shape)"
   ]
  },
  {
   "cell_type": "markdown",
   "id": "44b3caf8",
   "metadata": {
    "id": "giSLJY4g94ai",
    "papermill": {
     "duration": 0.007024,
     "end_time": "2023-06-18T07:15:23.511888",
     "exception": false,
     "start_time": "2023-06-18T07:15:23.504864",
     "status": "completed"
    },
    "tags": []
   },
   "source": [
    "Building the model based on the architecture :\n",
    "https://www.nature.com/articles/s41598-022-11173-0"
   ]
  },
  {
   "cell_type": "code",
   "execution_count": 5,
   "id": "8c985fbd",
   "metadata": {
    "execution": {
     "iopub.execute_input": "2023-06-18T07:15:23.527586Z",
     "iopub.status.busy": "2023-06-18T07:15:23.527304Z",
     "iopub.status.idle": "2023-06-18T07:15:34.375369Z",
     "shell.execute_reply": "2023-06-18T07:15:34.374634Z"
    },
    "id": "2x7BQG3Xp0fU",
    "outputId": "a4fa6b94-8100-4f03-df17-40928a7334f7",
    "papermill": {
     "duration": 10.907168,
     "end_time": "2023-06-18T07:15:34.426464",
     "exception": false,
     "start_time": "2023-06-18T07:15:23.519296",
     "status": "completed"
    },
    "tags": []
   },
   "outputs": [
    {
     "name": "stderr",
     "output_type": "stream",
     "text": [
      "/opt/conda/lib/python3.10/site-packages/tensorflow_io/python/ops/__init__.py:98: UserWarning: unable to load libtensorflow_io_plugins.so: unable to open file: libtensorflow_io_plugins.so, from paths: ['/opt/conda/lib/python3.10/site-packages/tensorflow_io/python/ops/libtensorflow_io_plugins.so']\n",
      "caused by: ['/opt/conda/lib/python3.10/site-packages/tensorflow_io/python/ops/libtensorflow_io_plugins.so: undefined symbol: _ZN3tsl6StatusC1EN10tensorflow5error4CodeESt17basic_string_viewIcSt11char_traitsIcEENS_14SourceLocationE']\n",
      "  warnings.warn(f\"unable to load libtensorflow_io_plugins.so: {e}\")\n",
      "/opt/conda/lib/python3.10/site-packages/tensorflow_io/python/ops/__init__.py:104: UserWarning: file system plugins are not loaded: unable to open file: libtensorflow_io.so, from paths: ['/opt/conda/lib/python3.10/site-packages/tensorflow_io/python/ops/libtensorflow_io.so']\n",
      "caused by: ['/opt/conda/lib/python3.10/site-packages/tensorflow_io/python/ops/libtensorflow_io.so: undefined symbol: _ZTVN10tensorflow13GcsFileSystemE']\n",
      "  warnings.warn(f\"file system plugins are not loaded: {e}\")\n"
     ]
    },
    {
     "name": "stdout",
     "output_type": "stream",
     "text": [
      "Model: \"sequential\"\n",
      "_________________________________________________________________\n",
      " Layer (type)                Output Shape              Param #   \n",
      "=================================================================\n",
      " conv2d (Conv2D)             (None, 46, 46, 64)        1792      \n",
      "                                                                 \n",
      " conv2d_1 (Conv2D)           (None, 44, 44, 64)        36928     \n",
      "                                                                 \n",
      " batch_normalization (BatchN  (None, 44, 44, 64)       256       \n",
      " ormalization)                                                   \n",
      "                                                                 \n",
      " max_pooling2d (MaxPooling2D  (None, 22, 22, 64)       0         \n",
      " )                                                               \n",
      "                                                                 \n",
      " dropout (Dropout)           (None, 22, 22, 64)        0         \n",
      "                                                                 \n",
      " conv2d_2 (Conv2D)           (None, 20, 20, 64)        36928     \n",
      "                                                                 \n",
      " conv2d_3 (Conv2D)           (None, 18, 18, 64)        36928     \n",
      "                                                                 \n",
      " batch_normalization_1 (Batc  (None, 18, 18, 64)       256       \n",
      " hNormalization)                                                 \n",
      "                                                                 \n",
      " max_pooling2d_1 (MaxPooling  (None, 9, 9, 64)         0         \n",
      " 2D)                                                             \n",
      "                                                                 \n",
      " dropout_1 (Dropout)         (None, 9, 9, 64)          0         \n",
      "                                                                 \n",
      " conv2d_4 (Conv2D)           (None, 7, 7, 128)         73856     \n",
      "                                                                 \n",
      " conv2d_5 (Conv2D)           (None, 5, 5, 128)         147584    \n",
      "                                                                 \n",
      " batch_normalization_2 (Batc  (None, 5, 5, 128)        512       \n",
      " hNormalization)                                                 \n",
      "                                                                 \n",
      " max_pooling2d_2 (MaxPooling  (None, 2, 2, 128)        0         \n",
      " 2D)                                                             \n",
      "                                                                 \n",
      " flatten (Flatten)           (None, 512)               0         \n",
      "                                                                 \n",
      " dense (Dense)               (None, 1024)              525312    \n",
      "                                                                 \n",
      " dropout_2 (Dropout)         (None, 1024)              0         \n",
      "                                                                 \n",
      " dense_1 (Dense)             (None, 1024)              1049600   \n",
      "                                                                 \n",
      " dropout_3 (Dropout)         (None, 1024)              0         \n",
      "                                                                 \n",
      " dense_2 (Dense)             (None, 7)                 7175      \n",
      "                                                                 \n",
      "=================================================================\n",
      "Total params: 1,917,127\n",
      "Trainable params: 1,916,615\n",
      "Non-trainable params: 512\n",
      "_________________________________________________________________\n"
     ]
    }
   ],
   "source": [
    "from keras.models import Sequential\n",
    "from keras.layers import Dense, Dropout, Activation, Flatten\n",
    "from keras.layers import Conv2D, MaxPooling2D, BatchNormalization, AveragePooling2D\n",
    "\n",
    "model=Sequential()\n",
    "# Feature extraction layers\n",
    "model.add(Conv2D(64, kernel_size=(3, 3), activation='relu', input_shape=(X_train.shape[1:])))\n",
    "model.add(Conv2D(64,kernel_size= (3, 3), activation='relu'))\n",
    "model.add(BatchNormalization())\n",
    "model.add(MaxPooling2D(pool_size=(2,2), strides=(2, 2)))\n",
    "model.add(Dropout(0.5))\n",
    "\n",
    "model.add(Conv2D(64, (3, 3), activation='relu'))\n",
    "model.add(Conv2D(64, (3, 3), activation='relu'))\n",
    "model.add(BatchNormalization())\n",
    "model.add(MaxPooling2D(pool_size=(2,2), strides=(2, 2)))\n",
    "model.add(Dropout(0.5))\n",
    "\n",
    "model.add(Conv2D(128, (3, 3), activation='relu'))\n",
    "model.add(Conv2D(128, (3, 3), activation='relu'))\n",
    "model.add(BatchNormalization())\n",
    "model.add(MaxPooling2D(pool_size=(2,2), strides=(2, 2)))\n",
    "# Classification layers\n",
    "model.add(Flatten())\n",
    "model.add(Dense(1024, activation='relu'))\n",
    "model.add(Dropout(0.2))\n",
    "model.add(Dense(1024, activation='relu'))\n",
    "model.add(Dropout(0.2))\n",
    "\n",
    "model.add(Dense(number_of_labels, activation='softmax'))\n",
    "\n",
    "model.summary()"
   ]
  },
  {
   "cell_type": "markdown",
   "id": "f829d478",
   "metadata": {
    "id": "2BbfdF1S_LaH",
    "papermill": {
     "duration": 0.015349,
     "end_time": "2023-06-18T07:15:34.457569",
     "exception": false,
     "start_time": "2023-06-18T07:15:34.442220",
     "status": "completed"
    },
    "tags": []
   },
   "source": [
    "Compiling"
   ]
  },
  {
   "cell_type": "code",
   "execution_count": 6,
   "id": "7800fda1",
   "metadata": {
    "execution": {
     "iopub.execute_input": "2023-06-18T07:15:34.491696Z",
     "iopub.status.busy": "2023-06-18T07:15:34.491170Z",
     "iopub.status.idle": "2023-06-18T07:15:34.783777Z",
     "shell.execute_reply": "2023-06-18T07:15:34.782766Z"
    },
    "id": "u02knSWn-Sh7",
    "papermill": {
     "duration": 0.312842,
     "end_time": "2023-06-18T07:15:34.786747",
     "exception": false,
     "start_time": "2023-06-18T07:15:34.473905",
     "status": "completed"
    },
    "tags": []
   },
   "outputs": [],
   "source": [
    "from keras.losses import categorical_crossentropy\n",
    "from keras.optimizers import Adam\n",
    "\n",
    "model.compile(\n",
    "    loss='sparse_categorical_crossentropy',\n",
    "    optimizer=Adam(),\n",
    "    metrics=['accuracy'])\n",
    "# #categorical_crossentropy shoyld have been used, yet it does not work"
   ]
  },
  {
   "cell_type": "code",
   "execution_count": 7,
   "id": "ddc82254",
   "metadata": {
    "execution": {
     "iopub.execute_input": "2023-06-18T07:15:34.821891Z",
     "iopub.status.busy": "2023-06-18T07:15:34.821533Z",
     "iopub.status.idle": "2023-06-18T07:15:34.826828Z",
     "shell.execute_reply": "2023-06-18T07:15:34.825952Z"
    },
    "id": "KwfYB9PpMrur",
    "outputId": "740229aa-e73b-400b-f7d2-9f88a82f44fc",
    "papermill": {
     "duration": 0.028127,
     "end_time": "2023-06-18T07:15:34.832147",
     "exception": false,
     "start_time": "2023-06-18T07:15:34.804020",
     "status": "completed"
    },
    "tags": []
   },
   "outputs": [
    {
     "name": "stdout",
     "output_type": "stream",
     "text": [
      "(25409,)\n",
      "(25409, 48, 48, 3)\n"
     ]
    }
   ],
   "source": [
    "print(y_train.shape)\n",
    "print(X_train.shape)"
   ]
  },
  {
   "cell_type": "markdown",
   "id": "83417de0",
   "metadata": {
    "id": "lufIgPk4-RVx",
    "papermill": {
     "duration": 0.015392,
     "end_time": "2023-06-18T07:15:34.864155",
     "exception": false,
     "start_time": "2023-06-18T07:15:34.848763",
     "status": "completed"
    },
    "tags": []
   },
   "source": [
    "Training"
   ]
  },
  {
   "cell_type": "code",
   "execution_count": 8,
   "id": "0b3182da",
   "metadata": {
    "execution": {
     "iopub.execute_input": "2023-06-18T07:15:34.898080Z",
     "iopub.status.busy": "2023-06-18T07:15:34.897719Z",
     "iopub.status.idle": "2023-06-18T07:24:58.316952Z",
     "shell.execute_reply": "2023-06-18T07:24:58.315939Z"
    },
    "id": "nYK0gH24_NbP",
    "outputId": "44893e72-7e32-4aeb-9c39-fa5503acc2a1",
    "papermill": {
     "duration": 564.264639,
     "end_time": "2023-06-18T07:24:59.145096",
     "exception": false,
     "start_time": "2023-06-18T07:15:34.880457",
     "status": "completed"
    },
    "tags": []
   },
   "outputs": [
    {
     "name": "stdout",
     "output_type": "stream",
     "text": [
      "Epoch 1/30\n"
     ]
    },
    {
     "name": "stderr",
     "output_type": "stream",
     "text": [
      "2023-06-18 07:15:36.322396: E tensorflow/core/grappler/optimizers/meta_optimizer.cc:954] layout failed: INVALID_ARGUMENT: Size of values 0 does not match size of permutation 4 @ fanin shape insequential/dropout/dropout/SelectV2-2-TransposeNHWCToNCHW-LayoutOptimizer\n"
     ]
    },
    {
     "name": "stdout",
     "output_type": "stream",
     "text": [
      "3177/3177 [==============================] - 24s 5ms/step - loss: 1.5872 - accuracy: 0.3478\n",
      "Epoch 2/30\n",
      "3177/3177 [==============================] - 17s 5ms/step - loss: 1.4166 - accuracy: 0.4387\n",
      "Epoch 3/30\n",
      "3177/3177 [==============================] - 17s 5ms/step - loss: 1.3025 - accuracy: 0.4835\n",
      "Epoch 4/30\n",
      "3177/3177 [==============================] - 17s 5ms/step - loss: 1.2291 - accuracy: 0.5212\n",
      "Epoch 5/30\n",
      "3177/3177 [==============================] - 17s 5ms/step - loss: 1.1565 - accuracy: 0.5482\n",
      "Epoch 6/30\n",
      "3177/3177 [==============================] - 17s 5ms/step - loss: 1.0963 - accuracy: 0.5749\n",
      "Epoch 7/30\n",
      "3177/3177 [==============================] - 17s 5ms/step - loss: 1.0556 - accuracy: 0.5917\n",
      "Epoch 8/30\n",
      "3177/3177 [==============================] - 17s 5ms/step - loss: 1.0210 - accuracy: 0.6084\n",
      "Epoch 9/30\n",
      "3177/3177 [==============================] - 17s 5ms/step - loss: 0.9854 - accuracy: 0.6224\n",
      "Epoch 10/30\n",
      "3177/3177 [==============================] - 16s 5ms/step - loss: 0.9547 - accuracy: 0.6346\n",
      "Epoch 11/30\n",
      "3177/3177 [==============================] - 17s 5ms/step - loss: 0.9308 - accuracy: 0.6436\n",
      "Epoch 12/30\n",
      "3177/3177 [==============================] - 17s 5ms/step - loss: 0.9195 - accuracy: 0.6519\n",
      "Epoch 13/30\n",
      "3177/3177 [==============================] - 18s 6ms/step - loss: 0.8914 - accuracy: 0.6602\n",
      "Epoch 14/30\n",
      "3177/3177 [==============================] - 17s 5ms/step - loss: 0.8642 - accuracy: 0.6713\n",
      "Epoch 15/30\n",
      "3177/3177 [==============================] - 18s 6ms/step - loss: 0.8559 - accuracy: 0.6753\n",
      "Epoch 16/30\n",
      "3177/3177 [==============================] - 17s 5ms/step - loss: 0.8255 - accuracy: 0.6831\n",
      "Epoch 17/30\n",
      "3177/3177 [==============================] - 17s 5ms/step - loss: 0.8110 - accuracy: 0.6928\n",
      "Epoch 18/30\n",
      "3177/3177 [==============================] - 17s 5ms/step - loss: 0.7958 - accuracy: 0.6959\n",
      "Epoch 19/30\n",
      "3177/3177 [==============================] - 17s 5ms/step - loss: 0.7834 - accuracy: 0.7049\n",
      "Epoch 20/30\n",
      "3177/3177 [==============================] - 17s 5ms/step - loss: 0.7665 - accuracy: 0.7094\n",
      "Epoch 21/30\n",
      "3177/3177 [==============================] - 17s 5ms/step - loss: 0.7524 - accuracy: 0.7161\n",
      "Epoch 22/30\n",
      "3177/3177 [==============================] - 17s 5ms/step - loss: 0.7301 - accuracy: 0.7238\n",
      "Epoch 23/30\n",
      "3177/3177 [==============================] - 17s 5ms/step - loss: 0.7249 - accuracy: 0.7269\n",
      "Epoch 24/30\n",
      "3177/3177 [==============================] - 17s 5ms/step - loss: 0.7133 - accuracy: 0.7308\n",
      "Epoch 25/30\n",
      "3177/3177 [==============================] - 17s 5ms/step - loss: 0.6998 - accuracy: 0.7359\n",
      "Epoch 26/30\n",
      "3177/3177 [==============================] - 17s 5ms/step - loss: 0.6913 - accuracy: 0.7403\n",
      "Epoch 27/30\n",
      "3177/3177 [==============================] - 17s 5ms/step - loss: 0.6755 - accuracy: 0.7458\n",
      "Epoch 28/30\n",
      "3177/3177 [==============================] - 17s 5ms/step - loss: 0.6653 - accuracy: 0.7523\n",
      "Epoch 29/30\n",
      "3177/3177 [==============================] - 17s 5ms/step - loss: 0.6572 - accuracy: 0.7545\n",
      "Epoch 30/30\n",
      "3177/3177 [==============================] - 17s 5ms/step - loss: 0.6542 - accuracy: 0.7572\n",
      "Training duration: 0:09:23.411318\n"
     ]
    }
   ],
   "source": [
    "from time import time\n",
    "import datetime\n",
    "\n",
    "start_time = time()\n",
    "\n",
    "model.fit(X_train, y_train, batch_size=batch_size, epochs=epochs, shuffle=True)\n",
    "\n",
    "end_time = time()\n",
    "duration = end_time-start_time\n",
    "\n",
    "print(\"Training duration: \" + str(datetime.timedelta(seconds=duration)))"
   ]
  },
  {
   "cell_type": "markdown",
   "id": "2ce17b42",
   "metadata": {
    "id": "BLWN-JoJMPUP",
    "papermill": {
     "duration": 0.77057,
     "end_time": "2023-06-18T07:25:00.698086",
     "exception": false,
     "start_time": "2023-06-18T07:24:59.927516",
     "status": "completed"
    },
    "tags": []
   },
   "source": [
    "Test"
   ]
  },
  {
   "cell_type": "code",
   "execution_count": 9,
   "id": "f1af875f",
   "metadata": {
    "execution": {
     "iopub.execute_input": "2023-06-18T07:25:02.266769Z",
     "iopub.status.busy": "2023-06-18T07:25:02.266394Z",
     "iopub.status.idle": "2023-06-18T07:25:02.270838Z",
     "shell.execute_reply": "2023-06-18T07:25:02.269966Z"
    },
    "id": "GJ7tfj_iMRK9",
    "papermill": {
     "duration": 0.7724,
     "end_time": "2023-06-18T07:25:02.272861",
     "exception": false,
     "start_time": "2023-06-18T07:25:01.500461",
     "status": "completed"
    },
    "tags": []
   },
   "outputs": [],
   "source": [
    "#from sklearn.metrics import classification_report\n",
    "\n",
    "#print(\"TEST RESULTS\")\n",
    "#y_test_model = model.predict(X_test)\n",
    "#print(classification_report(y_test, y_test_model))"
   ]
  },
  {
   "cell_type": "markdown",
   "id": "230db0d9",
   "metadata": {
    "id": "9VjoiN-NDJWw",
    "papermill": {
     "duration": 0.81993,
     "end_time": "2023-06-18T07:25:03.934091",
     "exception": false,
     "start_time": "2023-06-18T07:25:03.114161",
     "status": "completed"
    },
    "tags": []
   },
   "source": [
    "Save the model"
   ]
  },
  {
   "cell_type": "code",
   "execution_count": 10,
   "id": "0822392e",
   "metadata": {
    "execution": {
     "iopub.execute_input": "2023-06-18T07:25:05.469067Z",
     "iopub.status.busy": "2023-06-18T07:25:05.468631Z",
     "iopub.status.idle": "2023-06-18T07:25:05.532511Z",
     "shell.execute_reply": "2023-06-18T07:25:05.531470Z"
    },
    "id": "o5Zmcj42DLDS",
    "papermill": {
     "duration": 0.833112,
     "end_time": "2023-06-18T07:25:05.534960",
     "exception": false,
     "start_time": "2023-06-18T07:25:04.701848",
     "status": "completed"
    },
    "tags": []
   },
   "outputs": [
    {
     "name": "stdout",
     "output_type": "stream",
     "text": [
      "Model saved\n"
     ]
    }
   ],
   "source": [
    "model_json = model.to_json()\n",
    "with open(\"model_convnet.json\", \"w\") as json_file:\n",
    "    json_file.write(model_json)\n",
    "model.save_weights(\"model_convnet.h5\")\n",
    "print(\"Model saved\")"
   ]
  }
 ],
 "metadata": {
  "kernelspec": {
   "display_name": "Python 3",
   "language": "python",
   "name": "python3"
  },
  "language_info": {
   "codemirror_mode": {
    "name": "ipython",
    "version": 3
   },
   "file_extension": ".py",
   "mimetype": "text/x-python",
   "name": "python",
   "nbconvert_exporter": "python",
   "pygments_lexer": "ipython3",
   "version": "3.10.10"
  },
  "papermill": {
   "default_parameters": {},
   "duration": 604.183194,
   "end_time": "2023-06-18T07:25:10.186108",
   "environment_variables": {},
   "exception": null,
   "input_path": "__notebook__.ipynb",
   "output_path": "__notebook__.ipynb",
   "parameters": {},
   "start_time": "2023-06-18T07:15:06.002914",
   "version": "2.4.0"
  }
 },
 "nbformat": 4,
 "nbformat_minor": 5
}
