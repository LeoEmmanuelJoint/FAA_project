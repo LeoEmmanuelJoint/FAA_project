{
 "cells": [
  {
   "cell_type": "code",
   "execution_count": 11,
   "outputs": [],
   "source": [
    "import cv2\n",
    "import numpy as np\n",
    "from imblearn.over_sampling import SMOTE\n",
    "from sklearn.preprocessing import LabelEncoder\n",
    "from sklearn.svm import SVC\n",
    "from sklearn.decomposition import PCA\n",
    "from sklearn.metrics import accuracy_score\n",
    "import os\n",
    "import joblib\n",
    "from sklearn.utils import shuffle\n",
    "from sklearn.metrics import precision_score, recall_score, f1_score"
   ],
   "metadata": {
    "collapsed": false,
    "pycharm": {
     "name": "#%%\n"
    }
   }
  },
  {
   "cell_type": "code",
   "execution_count": 12,
   "outputs": [],
   "source": [
    "def count_samples(labels):\n",
    "    # Compter le nombre d'échantillons dans chaque classe\n",
    "    unique_classes, class_counts = np.unique(labels, return_counts=True)\n",
    "\n",
    "    # Afficher les résultats\n",
    "    for emotion_label, count in zip(unique_classes, class_counts):\n",
    "        print(f\"Classe {emotion_label}: {count} échantillons\")\n",
    "##################################################################################"
   ],
   "metadata": {
    "collapsed": false,
    "pycharm": {
     "name": "#%%\n"
    }
   }
  },
  {
   "cell_type": "code",
   "execution_count": 16,
   "outputs": [],
   "source": [
    "def process_data(data_folder, emotion_labels, images_list, labels_list, type):\n",
    "    # Nombre maximum d'images à utiliser par classe émotionnelle\n",
    "    max_images_per_class = 6000  # à retirer plus tard\n",
    "\n",
    "    # Parcours des dossiers d'émotions\n",
    "    for emotion_label in emotion_labels:\n",
    "        emotion_folder = os.path.join(data_folder, emotion_label)\n",
    "        # Parcours des fichiers d'images dans chaque dossier d'émotion\n",
    "        image_count = 0\n",
    "        for image_file in os.listdir(emotion_folder):\n",
    "            if image_count >= max_images_per_class:\n",
    "                break\n",
    "            image_path = os.path.join(emotion_folder, image_file)\n",
    "            # Charger l'image en niveaux de gris\n",
    "            image = cv2.imread(image_path, cv2.IMREAD_GRAYSCALE)\n",
    "            # Ajouter l'image et l'étiquette aux listes correspondantes\n",
    "            images_list.append(image)\n",
    "            labels_list.append(emotion_label)\n",
    "            image_count += 1\n",
    "\n",
    "    # Encodage des étiquettes d'émotions en valeurs numériques\n",
    "    label_encoder = LabelEncoder()\n",
    "    labels_list = label_encoder.fit_transform(labels_list)\n",
    "\n",
    "    # Convertir les images en tableaux numpy\n",
    "    images_list = np.array(images_list)\n",
    "\n",
    "    # Mélange aléatoire des données\n",
    "    images_list, labels_list = shuffle(images_list, labels_list, random_state=42)\n",
    "\n",
    "    if(type==\"train\"):\n",
    "        # Utilisation de SMOTE pour sur-échantillonner les classes minoritaires\n",
    "        smote = SMOTE(random_state=42)\n",
    "        images_list, labels_list = smote.fit_resample(images_list.reshape(len(images_list), -1), labels_list)\n",
    "\n",
    "    # Affichage des statistiques\n",
    "    print(\"Nombre total d'images :\", len(images_list))\n",
    "    print()\n",
    "\n",
    "    # Appeler la fonction pour compter les échantillons dans chaque classe\n",
    "    count_samples(labels_list)"
   ],
   "metadata": {
    "collapsed": false,
    "pycharm": {
     "name": "#%%\n"
    }
   }
  },
  {
   "cell_type": "code",
   "execution_count": 17,
   "outputs": [
    {
     "name": "stdout",
     "output_type": "stream",
     "text": [
      "Nombre total d'images : 12936\n",
      "\n",
      "Classe 0: 1848 échantillons\n",
      "Classe 1: 1848 échantillons\n",
      "Classe 2: 1848 échantillons\n",
      "Classe 3: 1848 échantillons\n",
      "Classe 4: 1848 échantillons\n",
      "Classe 5: 1848 échantillons\n",
      "Classe 6: 1848 échantillons\n",
      "Nombre total d'images : 2221\n",
      "\n",
      "Classe 0: 130 échantillons\n",
      "Classe 1: 220 échantillons\n",
      "Classe 2: 131 échantillons\n",
      "Classe 3: 360 échantillons\n",
      "Classe 4: 290 échantillons\n",
      "Classe 5: 220 échantillons\n",
      "Classe 6: 870 échantillons\n"
     ]
    }
   ],
   "source": [
    "# Chemin vers le dossier contenant les images de test\n",
    "train_data_folder = \"test\"  # Mettez le bon chemin vers votre dossier de test\n",
    "test_data_folder = \"D:/projet python/FAA_project/data\"  # Mettre le bon chemin\n",
    "emotion_labels = [\"anger\", \"disgust\", \"fear\", \"happiness\", \"neutral\", \"sadness\", \"surprise\"]\n",
    "\n",
    "# Charger les données d'entraînement\n",
    "train_images = []\n",
    "train_labels = []\n",
    "process_data(train_data_folder, emotion_labels, train_images, train_labels, \"train\")\n",
    "\n",
    "# Charger les données de test\n",
    "test_images = []\n",
    "test_labels = []\n",
    "process_data(test_data_folder, emotion_labels, test_images, test_labels, \"test\")"
   ],
   "metadata": {
    "collapsed": false,
    "pycharm": {
     "name": "#%%\n"
    }
   }
  },
  {
   "cell_type": "code",
   "execution_count": 18,
   "outputs": [],
   "source": [
    "\n",
    "# Appliquer PCA sur les données d'entraînement\n",
    "pca = PCA(n_components=100)  # Définir le nombre de composantes principales souhaité\n",
    "\n",
    "# Convertir la liste d'images en un tableau numpy\n",
    "train_images_array = np.array(train_images)\n",
    "\n",
    "# Aplatir les images d'entraînement\n",
    "train_images_flat = train_images_array.reshape(len(train_images_array), -1)\n",
    "\n",
    "# Appliquer PCA sur les images aplaties\n",
    "train_images_pca = pca.fit_transform(train_images_flat)"
   ],
   "metadata": {
    "collapsed": false,
    "pycharm": {
     "name": "#%%\n"
    }
   }
  },
  {
   "cell_type": "code",
   "execution_count": 19,
   "outputs": [],
   "source": [
    "\n",
    "# Créer un modèle SVM\n",
    "svm_model = SVC(probability=True)\n",
    "\n",
    "# Entraîner le modèle sur les données d'entraînement PCA\n",
    "svm_model.fit(train_images_pca, train_labels)\n",
    "\n",
    "# Sauvegarder le modèle entraîné\n",
    "joblib.dump(svm_model, 'svm_model.pkl')\n",
    "\n",
    "# Charger le modèle à partir du fichier\n",
    "loaded_svm_model = joblib.load('svm_model.pkl')"
   ],
   "metadata": {
    "collapsed": false,
    "pycharm": {
     "name": "#%%\n"
    }
   }
  },
  {
   "cell_type": "code",
   "execution_count": 20,
   "outputs": [],
   "source": [
    "\n",
    "# Convertir la liste d'images de test en un tableau numpy\n",
    "test_images_array = np.array(test_images)\n",
    "\n",
    "# Aplatir les images de test\n",
    "test_images_flat = test_images_array.reshape(len(test_images_array), -1)\n",
    "\n",
    "# Appliquer PCA sur les images aplaties de test\n",
    "test_images_pca = pca.transform(test_images_flat)"
   ],
   "metadata": {
    "collapsed": false,
    "pycharm": {
     "name": "#%%\n"
    }
   }
  },
  {
   "cell_type": "code",
   "execution_count": 21,
   "outputs": [
    {
     "name": "stdout",
     "output_type": "stream",
     "text": [
      "              precision    recall  f1-score   support\n",
      "\n",
      "       anger       0.16      0.36      0.23       130\n",
      "     disgust       0.43      0.55      0.48       220\n",
      "        fear       0.00      0.00      0.00       131\n",
      "   happiness       0.44      0.43      0.43       360\n",
      "     neutral       0.27      0.36      0.31       290\n",
      "     sadness       0.11      0.10      0.10       220\n",
      "    surprise       0.87      0.52      0.65       870\n",
      "\n",
      "    accuracy                           0.41      2221\n",
      "   macro avg       0.33      0.33      0.32      2221\n",
      "weighted avg       0.51      0.41      0.44      2221\n",
      "\n"
     ]
    }
   ],
   "source": [
    "from sklearn.metrics import classification_report\n",
    "\n",
    "# Calculer les prédictions pour les données de test\n",
    "predictions = loaded_svm_model.predict(test_images_pca)\n",
    "\n",
    "# Obtenir le rapport de classification\n",
    "report = classification_report(test_labels, predictions, target_names=emotion_labels)\n",
    "\n",
    "# Afficher le rapport de classification\n",
    "print(report)"
   ],
   "metadata": {
    "collapsed": false,
    "pycharm": {
     "name": "#%%\n"
    }
   }
  },
  {
   "cell_type": "code",
   "execution_count": null,
   "outputs": [],
   "source": [],
   "metadata": {
    "collapsed": false,
    "pycharm": {
     "name": "#%%\n"
    }
   }
  }
 ],
 "metadata": {
  "kernelspec": {
   "display_name": "Python 3",
   "language": "python",
   "name": "python3"
  },
  "language_info": {
   "codemirror_mode": {
    "name": "ipython",
    "version": 2
   },
   "file_extension": ".py",
   "mimetype": "text/x-python",
   "name": "python",
   "nbconvert_exporter": "python",
   "pygments_lexer": "ipython2",
   "version": "2.7.6"
  }
 },
 "nbformat": 4,
 "nbformat_minor": 0
}