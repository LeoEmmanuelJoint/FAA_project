{
 "metadata": {
  "kernelspec": {
   "language": "python",
   "display_name": "Python 3",
   "name": "python3"
  },
  "language_info": {
   "name": "python",
   "version": "3.10.10",
   "mimetype": "text/x-python",
   "codemirror_mode": {
    "name": "ipython",
    "version": 3
   },
   "pygments_lexer": "ipython3",
   "nbconvert_exporter": "python",
   "file_extension": ".py"
  }
 },
 "nbformat_minor": 4,
 "nbformat": 4,
 "cells": [
  {
   "cell_type": "code",
   "source": [
    "import cv2\n",
    "import numpy as np\n",
    "import os\n",
    "\n",
    "# Chemins vers les dossiers de données d'entraînement et de test\n",
    "train_data_folder = \"D:/UQAC ETE 2023/8INF867_Fondamentaux de l'apprentissage automatique/Projet/FAA_Project/FAA_project/data/train_10000/train_10000\"  # Mettez le bon chemin vers votre dossier de train\n",
    "test_data_folder = \"D:/UQAC ETE 2023/8INF867_Fondamentaux de l'apprentissage automatique/Projet/FAA_Project/FAA_project/data/data\"  # Mettre le bon chemin\n",
    "emotions = [\"anger\", \"disgust\", \"fear\", \"happiness\", \"neutral\", \"sadness\", \"surprise\"]\n",
    "\n",
    "# Prétraitement des données\n",
    "def preprocess_data(data_directory):\n",
    "    images = []\n",
    "    labels = []\n",
    "\n",
    "    for emotion in emotions:\n",
    "        emotion_path = os.path.join(data_directory, emotion)\n",
    "        for image_name in os.listdir(emotion_path):\n",
    "            image_path = os.path.join(emotion_path, image_name)\n",
    "            image = cv2.imread(image_path, cv2.IMREAD_GRAYSCALE)  # Charger l'image en niveaux de gris\n",
    "            image = cv2.resize(image, (48, 48))  # Redimensionner l'image\n",
    "            images.append(image)\n",
    "            labels.append(emotions.index(emotion))  # Étiqueter l'image avec l'indice de l'émotion\n",
    "\n",
    "    return np.array(images), np.array(labels)\n",
    "\n",
    "# Chargement des données d'entraînement\n",
    "train_images, train_labels = preprocess_data(train_data_folder)\n",
    "\n",
    "# Chargement des données de test\n",
    "test_images, test_labels = preprocess_data(test_data_folder)"
   ],
   "metadata": {
    "execution": {
     "iopub.status.busy": "2023-06-26T00:37:11.936826Z",
     "iopub.execute_input": "2023-06-26T00:37:11.937497Z",
     "iopub.status.idle": "2023-06-26T00:38:36.794265Z",
     "shell.execute_reply.started": "2023-06-26T00:37:11.937463Z",
     "shell.execute_reply": "2023-06-26T00:38:36.793275Z"
    },
    "trusted": true
   },
   "execution_count": 1,
   "outputs": []
  },
  {
   "cell_type": "code",
   "source": [
    "# Reduce the samples to train\n",
    "from sklearn.model_selection import train_test_split\n",
    "import pandas as pd\n",
    "import numpy as np\n",
    "\n",
    "# Determine the desired sample size\n",
    "sample_size = 8000\n",
    "\n",
    "# Convert train_images to a NumPy array\n",
    "train_images_array = np.array(train_images)\n",
    "print(train_images_array.shape)\n",
    "\n",
    "# Reshape train_images_array into a 2D array\n",
    "n_samples = train_images_array.shape[0]\n",
    "train_images_2d = train_images_array.reshape((n_samples, -1))\n",
    "\n",
    "# Convert train_images_2d to DataFrame\n",
    "train_data_df = pd.DataFrame(train_images_2d, columns=[f'feature_{i}' for i in range(train_images_2d.shape[1])])\n",
    "\n",
    "# Perform random sampling while maintaining the same proportion for each class\n",
    "X_train_df, _, y_train, _ = train_test_split(train_data_df, train_labels, train_size=sample_size, stratify=train_labels, random_state=42)\n",
    "\n",
    "# Extract the feature data as a 2D array\n",
    "X_train = X_train_df.values\n",
    "\n",
    "print(X_train.shape)"
   ],
   "metadata": {
    "execution": {
     "iopub.status.busy": "2023-06-26T00:38:55.299562Z",
     "iopub.execute_input": "2023-06-26T00:38:55.300497Z",
     "iopub.status.idle": "2023-06-26T00:38:56.406583Z",
     "shell.execute_reply.started": "2023-06-26T00:38:55.300458Z",
     "shell.execute_reply": "2023-06-26T00:38:56.405645Z"
    },
    "trusted": true
   },
   "execution_count": 2,
   "outputs": [
    {
     "name": "stdout",
     "output_type": "stream",
     "text": [
      "(69802, 48, 48)\n",
      "(8000, 2304)\n"
     ]
    }
   ]
  },
  {
   "cell_type": "code",
   "source": [
    "# Reducing the test set\n",
    "# Determine the desired sample size\n",
    "sample_size = 2000\n",
    "\n",
    "# Convert test_images to a NumPy array\n",
    "test_images_array = np.array(test_images)\n",
    "\n",
    "# Reshape test_images_array into a 2D array\n",
    "n_samples = test_images_array.shape[0]\n",
    "test_images_2d = test_images_array.reshape((n_samples, -1))\n",
    "\n",
    "# Convert test_images_2d to DataFrame\n",
    "test_data_df = pd.DataFrame(test_images_2d, columns=[f'feature_{i}' for i in range(test_images_2d.shape[1])])\n",
    "\n",
    "# Perform random sampling while maintaining the same proportion for each class\n",
    "X_test_df, _, y_test, _ = train_test_split(test_data_df, test_labels, train_size=sample_size, stratify=test_labels, random_state=42)\n",
    "\n",
    "# Extract the feature data as a 2D array\n",
    "X_test = X_test_df.values\n",
    "\n",
    "print(X_test.shape)"
   ],
   "metadata": {
    "execution": {
     "iopub.status.busy": "2023-06-26T00:39:03.891889Z",
     "iopub.execute_input": "2023-06-26T00:39:03.892851Z",
     "iopub.status.idle": "2023-06-26T00:39:03.966530Z",
     "shell.execute_reply.started": "2023-06-26T00:39:03.892819Z",
     "shell.execute_reply": "2023-06-26T00:39:03.965426Z"
    },
    "trusted": true
   },
   "execution_count": 3,
   "outputs": [
    {
     "name": "stdout",
     "output_type": "stream",
     "text": [
      "(2000, 2304)\n"
     ]
    }
   ]
  },
  {
   "cell_type": "code",
   "source": [
    "from sklearn.model_selection import StratifiedKFold\n",
    "from sklearn.metrics import classification_report\n",
    "from sklearn.metrics import confusion_matrix, cohen_kappa_score\n",
    "\n",
    "from sklearn.svm import SVC\n",
    "\n",
    "# #############################################################################\n",
    "# Split into a training set and a validation set using a stratified k fold\n",
    "\n",
    "# Define the number of folds\n",
    "k = 5\n",
    "\n",
    "# Initialize the stratified k-fold object\n",
    "skf = StratifiedKFold(n_splits=k, random_state=42, shuffle=True)\n",
    "\n",
    "# Lists to store the training and validation sets\n",
    "train_indices = []\n",
    "val_indices = []\n",
    "\n",
    "# Perform stratified k-fold splitting\n",
    "for train_index, val_index in skf.split(X_train, y_train):\n",
    "    train_indices.append(train_index)\n",
    "    val_indices.append(val_index)\n",
    "    modified_val_index= val_index\n",
    "    val_indices.append(modified_val_index)"
   ],
   "metadata": {
    "execution": {
     "iopub.status.busy": "2023-06-26T01:08:47.877181Z",
     "iopub.execute_input": "2023-06-26T01:08:47.877547Z",
     "iopub.status.idle": "2023-06-26T01:08:47.888272Z",
     "shell.execute_reply.started": "2023-06-26T01:08:47.877517Z",
     "shell.execute_reply": "2023-06-26T01:08:47.887188Z"
    },
    "trusted": true
   },
   "execution_count": 4,
   "outputs": []
  },
  {
   "cell_type": "code",
   "source": [
    "from sklearn.decomposition import PCA\n",
    "from sklearn.preprocessing import StandardScaler\n",
    "\n",
    "# Access the data for each fold\n",
    "for fold in range(k):\n",
    "    train_data= np.array(X_train)[train_indices[fold]]\n",
    "    train_labels_fold = np.array(y_train)[train_indices[fold]]\n",
    "    X_val = np.array(X_train)[val_indices[fold]]\n",
    "    val_labels_fold = np.array(y_train)[val_indices[fold]]\n",
    "    print(\"Fold: \",fold, \"X_train shape: \", train_data.shape, \"y_train shape: \", train_labels_fold.shape, \"X_val shape: \", X_val.shape, \"y_val shape: \", val_labels_fold.shape)\n",
    "\n",
    "    # Reshape images into a 2D array\n",
    "    X_train_2d = train_data.reshape((train_data.shape[0], -1))\n",
    "    X_val_2d = X_val.reshape((X_val.shape[0], -1))\n",
    "    X_test_2d = X_test.reshape((X_test.shape[0], -1))\n",
    "\n",
    "    #Scale the data\n",
    "    scaler = StandardScaler()\n",
    "    X_train_scaled = scaler.fit_transform(X_train_2d)\n",
    "    X_val_scaled = scaler.transform(X_val_2d)\n",
    "    X_test_scaled = scaler.transform(X_test_2d)\n",
    "\n",
    "    # Compute PCA on the training and validation set\n",
    "    n_components = 60  # Specify the desired number of components\n",
    "    pca = PCA(n_components=n_components, svd_solver='randomized', whiten=True)\n",
    "    X_train_pca = pca.fit_transform(X_train_2d)\n",
    "    X_val_pca = pca.transform(X_val_2d)\n",
    "    X_test_pca = pca.transform(X_test_2d)\n",
    "\n",
    "    # Verify the shape of PCA-transformed images\n",
    "    print(\"Shape of train images after PCA: \", X_train_pca.shape)\n",
    "    print(\"Shape of validation images after PCA: \", X_val_pca.shape)\n",
    "    print(\"Shape of test images after PCA: \", X_test_pca.shape)\n"
   ],
   "metadata": {
    "execution": {
     "iopub.status.busy": "2023-06-26T01:08:51.854276Z",
     "iopub.execute_input": "2023-06-26T01:08:51.854641Z",
     "iopub.status.idle": "2023-06-26T01:09:02.990748Z",
     "shell.execute_reply.started": "2023-06-26T01:08:51.854612Z",
     "shell.execute_reply": "2023-06-26T01:09:02.989314Z"
    },
    "trusted": true
   },
   "execution_count": 5,
   "outputs": [
    {
     "name": "stdout",
     "output_type": "stream",
     "text": [
      "Fold:  0 X_train shape:  (6400, 2304) y_train shape:  (6400,) X_val shape:  (1600, 2304) y_val shape:  (1600,)\n",
      "Shape of train images after PCA:  (6400, 60)\n",
      "Shape of validation images after PCA:  (1600, 60)\n",
      "Shape of test images after PCA:  (2000, 60)\n",
      "Fold:  1 X_train shape:  (6400, 2304) y_train shape:  (6400,) X_val shape:  (1600, 2304) y_val shape:  (1600,)\n",
      "Shape of train images after PCA:  (6400, 60)\n",
      "Shape of validation images after PCA:  (1600, 60)\n",
      "Shape of test images after PCA:  (2000, 60)\n",
      "Fold:  2 X_train shape:  (6400, 2304) y_train shape:  (6400,) X_val shape:  (1600, 2304) y_val shape:  (1600,)\n",
      "Shape of train images after PCA:  (6400, 60)\n",
      "Shape of validation images after PCA:  (1600, 60)\n",
      "Shape of test images after PCA:  (2000, 60)\n",
      "Fold:  3 X_train shape:  (6400, 2304) y_train shape:  (6400,) X_val shape:  (1600, 2304) y_val shape:  (1600,)\n",
      "Shape of train images after PCA:  (6400, 60)\n",
      "Shape of validation images after PCA:  (1600, 60)\n",
      "Shape of test images after PCA:  (2000, 60)\n",
      "Fold:  4 X_train shape:  (6400, 2304) y_train shape:  (6400,) X_val shape:  (1600, 2304) y_val shape:  (1600,)\n",
      "Shape of train images after PCA:  (6400, 60)\n",
      "Shape of validation images after PCA:  (1600, 60)\n",
      "Shape of test images after PCA:  (2000, 60)\n"
     ]
    }
   ]
  },
  {
   "cell_type": "code",
   "source": [
    "from sklearn.model_selection import GridSearchCV\n",
    "# Train a SVM classification model\n",
    "# Define the parameter grid for grid search\n",
    "param_grid = {'C': [0.01, 0.1, 1, 10, 100, 1000],\n",
    "              'gamma': [0.001, 0.01, 0.1, 1, 10, 100]}\n",
    "\n",
    "# Initialize the SVM classifier\n",
    "svm = SVC(kernel='rbf', class_weight='balanced')\n",
    "\n",
    "# Perform grid search to find the best hyperparameters\n",
    "optimal_params = GridSearchCV(svm, param_grid)\n",
    "optimal_params.fit(X_train_pca, train_labels_fold)\n",
    "# Print the best estimator found by grid search\n",
    "print(\"Best hyperparameters found by grid search:\")\n",
    "print(optimal_params.best_params_)\n",
    "print(\"Best estimator:\")\n",
    "print(optimal_params.best_estimator_)"
   ],
   "metadata": {
    "execution": {
     "iopub.status.busy": "2023-06-26T01:09:28.279089Z",
     "iopub.execute_input": "2023-06-26T01:09:28.280305Z",
     "iopub.status.idle": "2023-06-26T01:24:11.340328Z",
     "shell.execute_reply.started": "2023-06-26T01:09:28.280264Z",
     "shell.execute_reply": "2023-06-26T01:24:11.339105Z"
    },
    "trusted": true,
    "pycharm": {
     "is_executing": true
    }
   },
   "execution_count": null,
   "outputs": []
  },
  {
   "cell_type": "code",
   "source": [
    "#Computing the SVM model with the best parameters obtained\n",
    "from sklearn.metrics import accuracy_score\n",
    "# List to save the model performance for each fold\n",
    "accuracy_scores = []\n",
    "# SVM model training on each fold\n",
    "for fold in range(k):\n",
    "    # Creation, training and evaluation for the current fold\n",
    "    clf_svm = SVC(C= 10,kernel=\"rbf\",gamma = 0.01, class_weight = 'balanced')\n",
    "    clf_svm.fit(X_train_pca,train_labels_fold)\n",
    "\n",
    "    y_pred_fold = clf_svm.predict(X_val_pca)\n",
    "    accuracy = accuracy_score(val_labels_fold, y_pred_fold)\n",
    "    accuracy_scores.append(accuracy)\n",
    "\n",
    "    # Accuracy score for the current fold\n",
    "    print(\"Fold:\", fold+1, \"Accuracy:\", accuracy)\n",
    "\n",
    "    # Evaluate the model for the current fold\n",
    "    print(\"Classification Report:\")\n",
    "    print(classification_report(val_labels_fold, y_pred_fold))\n",
    "\n",
    "    # Print confusion matrix for the current fold\n",
    "    print(\"Confusion Matrix:\")\n",
    "    print(confusion_matrix(val_labels_fold, y_pred_fold))\n",
    "\n",
    "    # Print Cohen's Kappa score for the current fold\n",
    "    print(\"Cohen's Kappa score: \", cohen_kappa_score(val_labels_fold, y_pred_fold))\n",
    "# Mean accuracy for all the folds\n",
    "mean_accuracy = np.mean(accuracy_scores)\n",
    "print(\"Mean Accuracy:\", mean_accuracy)"
   ],
   "metadata": {
    "execution": {
     "iopub.status.busy": "2023-06-26T01:25:58.719341Z",
     "iopub.execute_input": "2023-06-26T01:25:58.719716Z",
     "iopub.status.idle": "2023-06-26T01:26:37.930607Z",
     "shell.execute_reply.started": "2023-06-26T01:25:58.719688Z",
     "shell.execute_reply": "2023-06-26T01:26:37.925106Z"
    },
    "trusted": true
   },
   "execution_count": 25,
   "outputs": [
    {
     "name": "stdout",
     "text": "Fold: 1 Accuracy: 0.951875\nClassification Report:\n              precision    recall  f1-score   support\n\n           0       0.99      0.93      0.95       229\n           1       0.96      0.97      0.96       225\n           2       0.97      0.93      0.95       229\n           3       0.93      0.97      0.95       230\n           4       0.91      0.97      0.94       229\n           5       0.95      0.94      0.95       229\n           6       0.96      0.96      0.96       229\n\n    accuracy                           0.95      1600\n   macro avg       0.95      0.95      0.95      1600\nweighted avg       0.95      0.95      0.95      1600\n\nConfusion Matrix:\n[[212   5   1   3   4   4   0]\n [  0 219   1   3   1   1   0]\n [  2   3 212   3   7   1   1]\n [  0   0   0 224   2   2   2]\n [  0   1   1   3 222   0   2]\n [  1   1   2   0   7 215   3]\n [  0   0   2   4   1   3 219]]\nCohen's Kappa score:  0.9438539181032832\nFold: 2 Accuracy: 0.951875\nClassification Report:\n              precision    recall  f1-score   support\n\n           0       0.99      0.93      0.95       229\n           1       0.96      0.97      0.96       225\n           2       0.97      0.93      0.95       229\n           3       0.93      0.97      0.95       230\n           4       0.91      0.97      0.94       229\n           5       0.95      0.94      0.95       229\n           6       0.96      0.96      0.96       229\n\n    accuracy                           0.95      1600\n   macro avg       0.95      0.95      0.95      1600\nweighted avg       0.95      0.95      0.95      1600\n\nConfusion Matrix:\n[[212   5   1   3   4   4   0]\n [  0 219   1   3   1   1   0]\n [  2   3 212   3   7   1   1]\n [  0   0   0 224   2   2   2]\n [  0   1   1   3 222   0   2]\n [  1   1   2   0   7 215   3]\n [  0   0   2   4   1   3 219]]\nCohen's Kappa score:  0.9438539181032832\nFold: 3 Accuracy: 0.951875\nClassification Report:\n              precision    recall  f1-score   support\n\n           0       0.99      0.93      0.95       229\n           1       0.96      0.97      0.96       225\n           2       0.97      0.93      0.95       229\n           3       0.93      0.97      0.95       230\n           4       0.91      0.97      0.94       229\n           5       0.95      0.94      0.95       229\n           6       0.96      0.96      0.96       229\n\n    accuracy                           0.95      1600\n   macro avg       0.95      0.95      0.95      1600\nweighted avg       0.95      0.95      0.95      1600\n\nConfusion Matrix:\n[[212   5   1   3   4   4   0]\n [  0 219   1   3   1   1   0]\n [  2   3 212   3   7   1   1]\n [  0   0   0 224   2   2   2]\n [  0   1   1   3 222   0   2]\n [  1   1   2   0   7 215   3]\n [  0   0   2   4   1   3 219]]\nCohen's Kappa score:  0.9438539181032832\nFold: 4 Accuracy: 0.951875\nClassification Report:\n              precision    recall  f1-score   support\n\n           0       0.99      0.93      0.95       229\n           1       0.96      0.97      0.96       225\n           2       0.97      0.93      0.95       229\n           3       0.93      0.97      0.95       230\n           4       0.91      0.97      0.94       229\n           5       0.95      0.94      0.95       229\n           6       0.96      0.96      0.96       229\n\n    accuracy                           0.95      1600\n   macro avg       0.95      0.95      0.95      1600\nweighted avg       0.95      0.95      0.95      1600\n\nConfusion Matrix:\n[[212   5   1   3   4   4   0]\n [  0 219   1   3   1   1   0]\n [  2   3 212   3   7   1   1]\n [  0   0   0 224   2   2   2]\n [  0   1   1   3 222   0   2]\n [  1   1   2   0   7 215   3]\n [  0   0   2   4   1   3 219]]\nCohen's Kappa score:  0.9438539181032832\nFold: 5 Accuracy: 0.951875\nClassification Report:\n              precision    recall  f1-score   support\n\n           0       0.99      0.93      0.95       229\n           1       0.96      0.97      0.96       225\n           2       0.97      0.93      0.95       229\n           3       0.93      0.97      0.95       230\n           4       0.91      0.97      0.94       229\n           5       0.95      0.94      0.95       229\n           6       0.96      0.96      0.96       229\n\n    accuracy                           0.95      1600\n   macro avg       0.95      0.95      0.95      1600\nweighted avg       0.95      0.95      0.95      1600\n\nConfusion Matrix:\n[[212   5   1   3   4   4   0]\n [  0 219   1   3   1   1   0]\n [  2   3 212   3   7   1   1]\n [  0   0   0 224   2   2   2]\n [  0   1   1   3 222   0   2]\n [  1   1   2   0   7 215   3]\n [  0   0   2   4   1   3 219]]\nCohen's Kappa score:  0.9438539181032832\nMean Accuracy: 0.951875\n",
     "output_type": "stream"
    }
   ]
  },
  {
   "cell_type": "code",
   "source": [
    "import pickle\n",
    "# Save the model object\n",
    "model_svm = 'svm_model_1.pkl'\n",
    "with open(model_svm, 'wb') as file:\n",
    "    pickle.dump(clf_svm, file)"
   ],
   "metadata": {
    "execution": {
     "iopub.status.busy": "2023-06-26T01:27:05.534626Z",
     "iopub.execute_input": "2023-06-26T01:27:05.535015Z",
     "iopub.status.idle": "2023-06-26T01:27:05.548644Z",
     "shell.execute_reply.started": "2023-06-26T01:27:05.534983Z",
     "shell.execute_reply": "2023-06-26T01:27:05.547607Z"
    },
    "trusted": true
   },
   "execution_count": 26,
   "outputs": []
  },
  {
   "cell_type": "code",
   "source": [
    "# Load the saved model\n",
    "model_svm = 'svm_model_1.pkl'\n",
    "with open(model_svm, 'rb') as file:\n",
    "    loaded_svm = pickle.load(file)"
   ],
   "metadata": {
    "execution": {
     "iopub.status.busy": "2023-06-26T01:27:09.766131Z",
     "iopub.execute_input": "2023-06-26T01:27:09.766550Z",
     "iopub.status.idle": "2023-06-26T01:27:09.773791Z",
     "shell.execute_reply.started": "2023-06-26T01:27:09.766517Z",
     "shell.execute_reply": "2023-06-26T01:27:09.772710Z"
    },
    "trusted": true
   },
   "execution_count": 27,
   "outputs": []
  },
  {
   "cell_type": "code",
   "source": [
    "from time import time\n",
    "# Evaluating on the test set\n",
    "\n",
    "print(\"Predicting on the test set\")\n",
    "t0 = time()\n",
    "y_pred = loaded_svm.predict(X_test_pca)\n",
    "print(\"done in %0.3fs\" % (time() - t0))\n",
    "\n",
    "# Print classification report\n",
    "print(\"Classification Report:\")\n",
    "print(classification_report(y_test, y_pred))\n",
    "\n",
    "# Print confusion matrix\n",
    "print(\"Confusion Matrix:\")\n",
    "print(confusion_matrix(y_test, y_pred))\n",
    "\n",
    "# Print Cohen's Kappa score\n",
    "print(\"Cohen's Kappa score: \", cohen_kappa_score(y_test, y_pred))"
   ],
   "metadata": {
    "execution": {
     "iopub.status.busy": "2023-06-26T01:27:12.832022Z",
     "iopub.execute_input": "2023-06-26T01:27:12.832372Z",
     "iopub.status.idle": "2023-06-26T01:27:14.029895Z",
     "shell.execute_reply.started": "2023-06-26T01:27:12.832343Z",
     "shell.execute_reply": "2023-06-26T01:27:14.028979Z"
    },
    "trusted": true
   },
   "execution_count": 28,
   "outputs": [
    {
     "name": "stdout",
     "text": "Predicting on the test set\ndone in 1.180s\nClassification Report:\n              precision    recall  f1-score   support\n\n           0       0.29      0.30      0.29       286\n           1       0.47      0.52      0.50       286\n           2       0.26      0.24      0.25       286\n           3       0.46      0.47      0.46       285\n           4       0.29      0.34      0.31       286\n           5       0.31      0.24      0.27       286\n           6       0.63      0.59      0.61       285\n\n    accuracy                           0.39      2000\n   macro avg       0.39      0.39      0.39      2000\nweighted avg       0.39      0.39      0.39      2000\n\nConfusion Matrix:\n[[ 86  32  35  30  51  37  15]\n [ 29 150  27  12  40  20   8]\n [ 55  44  70  38  32  25  22]\n [ 27  24  23 133  36  26  16]\n [ 36  26  26  37  96  40  25]\n [ 50  30  52  20  50  70  14]\n [ 15  10  38  20  24   9 169]]\nCohen's Kappa score:  0.2848307408447689\n",
     "output_type": "stream"
    }
   ]
  },
  {
   "cell_type": "code",
   "execution_count": null,
   "outputs": [],
   "source": [
    "# Predict on 1 image\n",
    "print(\"Predicting on 1 image\")\n",
    "\n",
    "t0 = time()\n",
    "y_pred = loaded_svm.predict(X_test_pca)\n",
    "print(\"done in %0.3fs\" % (time() - t0))\n",
    "\n",
    "# Print classification report\n",
    "print(\"Classification Report:\")\n",
    "print(classification_report(y_test, y_pred))\n",
    "\n",
    "# Print confusion matrix\n",
    "print(\"Confusion Matrix:\")\n",
    "print(confusion_matrix(y_test, y_pred))\n",
    "\n",
    "# Print Cohen's Kappa score\n",
    "print(\"Cohen's Kappa score: \", cohen_kappa_score(y_test, y_pred))"
   ],
   "metadata": {
    "collapsed": false
   }
  },
  {
   "cell_type": "code",
   "source": [
    "# Saving the metrics of the model in a dictionary\n",
    "from sklearn.metrics import cohen_kappa_score\n",
    "from sklearn.metrics import classification_report\n",
    "from sklearn.metrics import confusion_matrix\n",
    "from sklearn.metrics import accuracy_score\n",
    "import pickle\n",
    "\n",
    "def save_element(x, name=\"element\", binary=True, ext=\".pkl\"):\n",
    "    if binary:\n",
    "        mode = 'wb'\n",
    "        encod='_bin'\n",
    "    else:\n",
    "        encod=\"\"\n",
    "        mode = 'w'\n",
    "    file = open(name +encod + ext, mode)\n",
    "    pickle.dump(x, file)\n",
    "    file.close()\n",
    "    print(\"File \"+name+\" saved\")\n",
    "\n",
    "hist = {\n",
    "    'test_accuracy': accuracy_score(y_test, y_pred),\n",
    "    'test_report': classification_report(y_test, y_pred, output_dict=False, target_names=emotions),\n",
    "    'test_report_dict': classification_report(y_test, y_pred, output_dict=True, target_names=emotions),\n",
    "    'test_cf_matrix': confusion_matrix(y_test, y_pred),\n",
    "    'test_kappa': cohen_kappa_score(y_test, y_pred)}\n",
    "\n",
    "save_element(hist, \"history_dict_svm1\")"
   ],
   "metadata": {
    "execution": {
     "iopub.status.busy": "2023-06-26T01:30:16.747848Z",
     "iopub.execute_input": "2023-06-26T01:30:16.748350Z",
     "iopub.status.idle": "2023-06-26T01:30:16.801805Z",
     "shell.execute_reply.started": "2023-06-26T01:30:16.748309Z",
     "shell.execute_reply": "2023-06-26T01:30:16.800984Z"
    },
    "trusted": true
   },
   "execution_count": 29,
   "outputs": [
    {
     "name": "stdout",
     "text": "File history_dict_svm1 saved\n",
     "output_type": "stream"
    }
   ]
  }
 ]
}
