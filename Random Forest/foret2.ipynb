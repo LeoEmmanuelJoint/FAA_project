{
 "cells": [
  {
   "cell_type": "code",
   "execution_count": 71,
   "outputs": [],
   "source": [
    "import os\n",
    "import cv2\n",
    "import numpy as np\n",
    "from sklearn.model_selection import train_test_split\n",
    "from sklearn.ensemble import RandomForestClassifier\n",
    "from sklearn.metrics import accuracy_score, recall_score, f1_score, classification_report, confusion_matrix\n",
    "from skimage.feature import hog\n",
    "from sklearn.decomposition import PCA\n",
    "import pickle"
   ],
   "metadata": {
    "collapsed": false,
    "pycharm": {
     "name": "#%%\n"
    }
   }
  },
  {
   "cell_type": "code",
   "execution_count": 72,
   "outputs": [],
   "source": [
    "# Étape 1 : Collecte de données (CK+ dataset)\n",
    "data_directory = 'extract/train_10000'\n",
    "emotions = [\"anger\", \"disgust\", \"fear\", \"happiness\", \"neutral\", \"sadness\", \"surprise\"]"
   ],
   "metadata": {
    "collapsed": false,
    "pycharm": {
     "name": "#%%\n"
    }
   }
  },
  {
   "cell_type": "code",
   "execution_count": 73,
   "outputs": [],
   "source": [
    "# Étape 2 : Prétraitement des données\n",
    "def preprocess_data(data_directory):\n",
    "    images = []\n",
    "    labels = []\n",
    "\n",
    "    for emotion in emotions:\n",
    "        emotion_path = os.path.join(data_directory, emotion)\n",
    "        for image_name in os.listdir(emotion_path):\n",
    "            image_path = os.path.join(emotion_path, image_name)\n",
    "            image = cv2.imread(image_path, 0)  # Charger l'image en niveaux de gris\n",
    "            image = cv2.resize(image, (48, 48))  # Redimensionner l'image\n",
    "            images.append(image)\n",
    "            labels.append(emotions.index(emotion))  # Étiqueter l'image avec l'indice de l'émotion\n",
    "\n",
    "    return np.array(images), np.array(labels)\n",
    "\n",
    "images, labels = preprocess_data(data_directory)"
   ],
   "metadata": {
    "collapsed": false,
    "pycharm": {
     "name": "#%%\n"
    }
   }
  },
  {
   "cell_type": "code",
   "execution_count": 74,
   "outputs": [],
   "source": [
    "# Étape 3 : Extraction des caractéristiques (HOG)\n",
    "def extract_features(images):\n",
    "    features = []\n",
    "\n",
    "    for image in images:\n",
    "        # Appliquer le descripteur HOG\n",
    "        hog_features = hog(image, orientations=9, pixels_per_cell=(8, 8), cells_per_block=(2, 2), visualize=False)\n",
    "        features.append(hog_features)\n",
    "\n",
    "    return np.array(features)\n",
    "\n",
    "features = extract_features(images)\n"
   ],
   "metadata": {
    "collapsed": false,
    "pycharm": {
     "name": "#%%\n"
    }
   }
  },
  {
   "cell_type": "code",
   "execution_count": 75,
   "outputs": [],
   "source": [
    "# Étape 4 : Réduction de dimension avec PCA\n",
    "pca = PCA(n_components=60)\n",
    "features_pca = pca.fit_transform(features)"
   ],
   "metadata": {
    "collapsed": false,
    "pycharm": {
     "name": "#%%\n"
    }
   }
  },
  {
   "cell_type": "code",
   "execution_count": 76,
   "outputs": [],
   "source": [
    "# Étape 5 : Construction du modèle\n",
    "def train_model(features, labels):\n",
    "    X_train, X_test, y_train, y_test = train_test_split(features, labels, test_size=0.2, random_state=42)\n",
    "    model = RandomForestClassifier()  # Utilisation d'un modèle de forêt aléatoire\n",
    "    model.fit(X_train, y_train)\n",
    "    return model\n",
    "model = train_model(features_pca, labels)"
   ],
   "metadata": {
    "collapsed": false,
    "pycharm": {
     "name": "#%%\n"
    }
   }
  },
  {
   "cell_type": "code",
   "execution_count": 77,
   "outputs": [],
   "source": [
    "# Étape 6 : Évaluation du modèle\n",
    "def evaluate_model(model, features, labels):\n",
    "    features_pca = pca.transform(features)\n",
    "    predictions = model.predict(features_pca)\n",
    "    accuracy = accuracy_score(labels, predictions)\n",
    "    recall = recall_score(labels, predictions, average='weighted')\n",
    "    f1 = f1_score(labels, predictions, average='weighted')\n",
    "    report = classification_report(labels, predictions, target_names=emotions)\n",
    "    confusion = confusion_matrix(labels, predictions)\n",
    "    return accuracy, recall, f1, report, confusion"
   ],
   "metadata": {
    "collapsed": false,
    "pycharm": {
     "name": "#%%\n"
    }
   }
  },
  {
   "cell_type": "code",
   "execution_count": 78,
   "outputs": [
    {
     "name": "stdout",
     "output_type": "stream",
     "text": [
      "Précision : 0.9198865345768685\n",
      "Rappel : 0.9198865345768685\n",
      "Score F1 : 0.9197780334864748\n",
      "Rapport de classification :\n",
      "               precision    recall  f1-score   support\n",
      "\n",
      "       anger       0.90      0.90      0.90     10000\n",
      "     disgust       0.92      0.96      0.94      9802\n",
      "        fear       0.94      0.89      0.92     10000\n",
      "   happiness       0.92      0.92      0.92     10000\n",
      "     neutral       0.91      0.91      0.91     10000\n",
      "     sadness       0.92      0.91      0.91     10000\n",
      "    surprise       0.94      0.96      0.95      9999\n",
      "\n",
      "    accuracy                           0.92     69801\n",
      "   macro avg       0.92      0.92      0.92     69801\n",
      "weighted avg       0.92      0.92      0.92     69801\n",
      "\n",
      "Matrice de confusion :\n",
      " [[8973  410  135  126  133  148   75]\n",
      " [ 213 9366   61   55   37   51   19]\n",
      " [ 261  197 8939  108  145  164  186]\n",
      " [ 197   64   81 9153  238  156  111]\n",
      " [ 159   57  109  213 9132  176  154]\n",
      " [ 167  103  135  183  267 9058   87]\n",
      " [  50   28   69   93  100   71 9588]]\n"
     ]
    }
   ],
   "source": [
    "\n",
    "accuracy, recall, f1, report, confusion = evaluate_model(model, features, labels)\n",
    "\n",
    "print(\"Précision :\", accuracy)\n",
    "print(\"Rappel :\", recall)\n",
    "print(\"Score F1 :\", f1)\n",
    "print(\"Rapport de classification :\\n\", report)\n",
    "print(\"Matrice de confusion :\\n\", confusion)"
   ],
   "metadata": {
    "collapsed": false,
    "pycharm": {
     "name": "#%%\n"
    }
   }
  },
  {
   "cell_type": "code",
   "execution_count": 79,
   "outputs": [],
   "source": [
    "\n",
    "# Chargement des nouvelles données de test\n",
    "new_test_data_directory = 'extract/data'\n",
    "new_test_images, new_test_labels = preprocess_data(new_test_data_directory)"
   ],
   "metadata": {
    "collapsed": false,
    "pycharm": {
     "name": "#%%\n"
    }
   }
  },
  {
   "cell_type": "code",
   "execution_count": 80,
   "outputs": [],
   "source": [
    "# Extraction des caractéristiques pour les nouvelles données de test\n",
    "new_test_features = extract_features(new_test_images)"
   ],
   "metadata": {
    "collapsed": false,
    "pycharm": {
     "name": "#%%\n"
    }
   }
  },
  {
   "cell_type": "code",
   "execution_count": 81,
   "outputs": [
    {
     "name": "stdout",
     "output_type": "stream",
     "text": [
      "Précision sur les nouvelles données de test : 0.7514285714285714\n",
      "Rappel sur les nouvelles données de test : 0.7514285714285714\n",
      "Score F1 sur les nouvelles données de test : 0.746664717706357\n",
      "Rapport de classification pour les nouvelles données de test :\n",
      "               precision    recall  f1-score   support\n",
      "\n",
      "       anger       0.64      0.78      0.70      2000\n",
      "     disgust       0.72      0.92      0.81      2000\n",
      "        fear       0.73      0.50      0.60      2000\n",
      "   happiness       0.76      0.63      0.69      2000\n",
      "     neutral       0.72      0.75      0.73      2000\n",
      "     sadness       0.82      0.76      0.79      2000\n",
      "    surprise       0.89      0.91      0.90      2000\n",
      "\n",
      "    accuracy                           0.75     14000\n",
      "   macro avg       0.76      0.75      0.75     14000\n",
      "weighted avg       0.76      0.75      0.75     14000\n",
      "\n",
      "Matrice de confusion pour les nouvelles données de test :\n",
      " [[1564  112   69   61  103   52   39]\n",
      " [  83 1846   15   23   18   13    2]\n",
      " [ 330  276 1005   88  158   76   67]\n",
      " [ 222  164   90 1253  125   96   50]\n",
      " [ 124   66   70  121 1503   67   49]\n",
      " [  94   70   96   75  123 1520   22]\n",
      " [  21   20   32   18   61   19 1829]]\n"
     ]
    }
   ],
   "source": [
    "# Évaluation du modèle sur les nouvelles données de test\n",
    "new_test_features_pca = pca.transform(new_test_features)\n",
    "new_test_predictions = model.predict(new_test_features_pca)\n",
    "new_test_accuracy = accuracy_score(new_test_labels, new_test_predictions)\n",
    "new_test_recall = recall_score(new_test_labels, new_test_predictions, average='weighted')\n",
    "new_test_f1 = f1_score(new_test_labels, new_test_predictions, average='weighted')\n",
    "new_test_report = classification_report(new_test_labels, new_test_predictions, target_names=emotions)\n",
    "new_test_confusion = confusion_matrix(new_test_labels, new_test_predictions)\n",
    "\n",
    "print(\"Précision sur les nouvelles données de test :\", new_test_accuracy)\n",
    "print(\"Rappel sur les nouvelles données de test :\", new_test_recall)\n",
    "print(\"Score F1 sur les nouvelles données de test :\", new_test_f1)\n",
    "print(\"Rapport de classification pour les nouvelles données de test :\\n\", new_test_report)\n",
    "print(\"Matrice de confusion pour les nouvelles données de test :\\n\", new_test_confusion)\n"
   ],
   "metadata": {
    "collapsed": false,
    "pycharm": {
     "name": "#%%\n"
    }
   }
  },
  {
   "cell_type": "code",
   "execution_count": 82,
   "outputs": [
    {
     "name": "stdout",
     "output_type": "stream",
     "text": [
      "Le modèle RandomForestClassifier a été sauvegardé dans le fichier emotion_model.pkl\n",
      "Le modèle PCA a été sauvegardé dans le fichier pca_model1.pkl\n"
     ]
    }
   ],
   "source": [
    "# Sauvegarde du modèle RandomForestClassifier et du modèle PCA dans des fichiers\n",
    "model_filename = 'emotion_model.pkl'\n",
    "pca_filename = 'pca_model1.pkl'\n",
    "pickle.dump(model, open(model_filename, 'wb'))\n",
    "pickle.dump(pca, open(pca_filename, 'wb'))\n",
    "\n",
    "print(\"Le modèle RandomForestClassifier a été sauvegardé dans le fichier\", model_filename)\n",
    "print(\"Le modèle PCA a été sauvegardé dans le fichier\", pca_filename)"
   ],
   "metadata": {
    "collapsed": false,
    "pycharm": {
     "name": "#%%\n"
    }
   }
  },
  {
   "cell_type": "code",
   "execution_count": 86,
   "outputs": [
    {
     "name": "stdout",
     "output_type": "stream",
     "text": [
      "File test_performance_metrics saved\n"
     ]
    }
   ],
   "source": [
    "from sklearn.metrics import cohen_kappa_score\n",
    "\n",
    "\n",
    "def save_element(x, name=\"element\", binary=True, ext=\".pkl\"):\n",
    "    if binary:\n",
    "        mode = 'wb'\n",
    "        encod = '_bin'\n",
    "    else:\n",
    "        encod = \"\"\n",
    "        mode = 'w'\n",
    "    file = open(name + encod + ext, mode)\n",
    "    pickle.dump(x, file)\n",
    "    file.close()\n",
    "    print(\"File \" + name + \" saved\")\n",
    "\n",
    "test_metrics = {\n",
    "    'test_accuracy': accuracy_score(new_test_labels, new_test_predictions),\n",
    "    'test_report': classification_report(new_test_labels, new_test_predictions, output_dict=False, target_names=emotions),\n",
    "    'test_report_dict': classification_report(new_test_labels, new_test_predictions, output_dict=True, target_names=emotions),\n",
    "    'test_cf_matrix': confusion_matrix(new_test_labels, new_test_predictions),\n",
    "    'test_kappa': cohen_kappa_score(new_test_labels, new_test_predictions)\n",
    "}\n",
    "\n",
    "save_element(test_metrics, \"test_performance_metrics\")"
   ],
   "metadata": {
    "collapsed": false,
    "pycharm": {
     "name": "#%%\n"
    }
   }
  },
  {
   "cell_type": "code",
   "execution_count": null,
   "outputs": [],
   "source": [],
   "metadata": {
    "collapsed": false,
    "pycharm": {
     "name": "#%%\n"
    }
   }
  }
 ],
 "metadata": {
  "kernelspec": {
   "display_name": "Python 3",
   "language": "python",
   "name": "python3"
  },
  "language_info": {
   "codemirror_mode": {
    "name": "ipython",
    "version": 2
   },
   "file_extension": ".py",
   "mimetype": "text/x-python",
   "name": "python",
   "nbconvert_exporter": "python",
   "pygments_lexer": "ipython2",
   "version": "2.7.6"
  }
 },
 "nbformat": 4,
 "nbformat_minor": 0
}